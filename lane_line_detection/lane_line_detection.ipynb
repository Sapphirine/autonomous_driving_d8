{
  "nbformat": 4,
  "nbformat_minor": 0,
  "metadata": {
    "colab": {
      "name": "lane_line_detection.ipynb",
      "provenance": [],
      "collapsed_sections": []
    },
    "kernelspec": {
      "name": "python3",
      "display_name": "Python 3"
    },
    "language_info": {
      "name": "python"
    },
    "accelerator": "GPU"
  },
  "cells": [
    {
      "cell_type": "code",
      "execution_count": 1,
      "metadata": {
        "id": "mXN0kCaAt_BQ"
      },
      "outputs": [],
      "source": [
        "import numpy as np\n",
        "import pickle\n",
        "from sklearn.utils import shuffle\n",
        "from sklearn.model_selection import train_test_split\n",
        "import tensorflow as tf\n",
        "\n",
        "# Import necessary items from tensorflow\n",
        "from tensorflow.keras.models import Sequential\n",
        "from tensorflow.keras.layers import Activation, Dropout, UpSampling2D\n",
        "from tensorflow.keras.layers import Conv2DTranspose, Conv2D, MaxPooling2D, Dense\n",
        "from tensorflow.keras.layers import BatchNormalization\n",
        "from tensorflow.keras.preprocessing.image import ImageDataGenerator\n",
        "from tensorflow.keras import regularizers"
      ]
    },
    {
      "cell_type": "code",
      "execution_count": 2,
      "metadata": {
        "id": "fggMVVtkyMC5",
        "colab": {
          "base_uri": "https://localhost:8080/"
        },
        "outputId": "fb4b0e47-a94b-40f3-edaa-58b3a73a4ec4"
      },
      "outputs": [
        {
          "output_type": "stream",
          "name": "stdout",
          "text": [
            "Drive already mounted at /content/drive; to attempt to forcibly remount, call drive.mount(\"/content/drive\", force_remount=True).\n"
          ]
        }
      ],
      "source": [
        "from google.colab import drive\n",
        "drive.mount('/content/drive')"
      ]
    },
    {
      "cell_type": "code",
      "source": [
        "# Load training images\n",
        "data = pickle.load(open(\"drive/MyDrive/bda_data/data.p\", \"rb\" ))\n",
        "\n",
        "# Load image labels\n",
        "y = pickle.load(open(\"drive/MyDrive/bda_data/labels.p\", \"rb\" ))"
      ],
      "metadata": {
        "id": "Jon7kyOIuqmd"
      },
      "execution_count": 3,
      "outputs": []
    },
    {
      "cell_type": "code",
      "source": [
        "print(\"Train Images shape:\", data[0].shape)\n",
        "print(\"Train Images label shape:\", y[0].shape)"
      ],
      "metadata": {
        "colab": {
          "base_uri": "https://localhost:8080/"
        },
        "id": "IxlJi8uwu5PR",
        "outputId": "23d9ae33-8a16-4deb-804e-ac2e43888f03"
      },
      "execution_count": 4,
      "outputs": [
        {
          "output_type": "stream",
          "name": "stdout",
          "text": [
            "Train Images shape: (80, 160, 3)\n",
            "Train Images label shape: (80, 160, 1)\n"
          ]
        }
      ]
    },
    {
      "cell_type": "code",
      "source": [
        "print(\"Train Images label shape:\", y[0])"
      ],
      "metadata": {
        "colab": {
          "base_uri": "https://localhost:8080/"
        },
        "id": "9kwDasa5u7Mk",
        "outputId": "7178c566-553e-4157-bd1f-f5fe4e0145e1"
      },
      "execution_count": 5,
      "outputs": [
        {
          "output_type": "stream",
          "name": "stdout",
          "text": [
            "Train Images label shape: [[[0]\n",
            "  [0]\n",
            "  [0]\n",
            "  ...\n",
            "  [0]\n",
            "  [0]\n",
            "  [0]]\n",
            "\n",
            " [[0]\n",
            "  [0]\n",
            "  [0]\n",
            "  ...\n",
            "  [0]\n",
            "  [0]\n",
            "  [0]]\n",
            "\n",
            " [[0]\n",
            "  [0]\n",
            "  [0]\n",
            "  ...\n",
            "  [0]\n",
            "  [0]\n",
            "  [0]]\n",
            "\n",
            " ...\n",
            "\n",
            " [[0]\n",
            "  [0]\n",
            "  [0]\n",
            "  ...\n",
            "  [0]\n",
            "  [0]\n",
            "  [0]]\n",
            "\n",
            " [[0]\n",
            "  [0]\n",
            "  [0]\n",
            "  ...\n",
            "  [0]\n",
            "  [0]\n",
            "  [0]]\n",
            "\n",
            " [[0]\n",
            "  [0]\n",
            "  [0]\n",
            "  ...\n",
            "  [0]\n",
            "  [0]\n",
            "  [0]]]\n"
          ]
        }
      ]
    },
    {
      "cell_type": "code",
      "source": [
        "train_images = np.array(data)\n",
        "labels = np.array(y)"
      ],
      "metadata": {
        "id": "X-8s9rjcu9dw"
      },
      "execution_count": 6,
      "outputs": []
    },
    {
      "cell_type": "code",
      "source": [
        "labels = labels/255 #normalize the labels and data\n",
        "X_dev, X_test, y_dev, y_test = train_test_split(train_images, labels, test_size=0.1, shuffle=True)\n",
        "X_train, X_val, y_train, y_val = train_test_split(X_dev, y_dev, test_size=0.1, shuffle=True)"
      ],
      "metadata": {
        "id": "oPhX3_OxvAD-"
      },
      "execution_count": 7,
      "outputs": []
    },
    {
      "cell_type": "code",
      "source": [
        "batch_size = 128\n",
        "pool_size = (2, 2)\n",
        "input_shape = X_train.shape[1:]"
      ],
      "metadata": {
        "id": "xVqQNg4FvCNi"
      },
      "execution_count": 8,
      "outputs": []
    },
    {
      "cell_type": "code",
      "source": [
        "model = Sequential()\n",
        "model.add(BatchNormalization(input_shape=input_shape))\n",
        "model.add(Conv2D(8, (3, 3), padding='valid',activation='relu'))\n",
        "model.add(BatchNormalization())\n",
        "model.add(Conv2D(16, (3, 3), padding='valid', activation = 'relu'))\n",
        "model.add(BatchNormalization())\n",
        "model.add(MaxPooling2D(pool_size=pool_size))\n",
        "model.add(Conv2D(32, (3, 3), padding='valid', activation = 'relu'))\n",
        "model.add(BatchNormalization())\n",
        "model.add(Dropout(0.5))\n",
        "model.add(Conv2D(32, (3, 3), padding='valid', activation = 'relu'))\n",
        "model.add(BatchNormalization())\n",
        "model.add(Dropout(0.5))\n",
        "model.add(MaxPooling2D(pool_size=pool_size))\n",
        "model.add(Conv2D(64, (3, 3), padding='valid', activation = 'relu'))\n",
        "model.add(BatchNormalization())\n",
        "model.add(Dropout(0.5))\n",
        "model.add(Conv2DTranspose(64, (3, 3), padding='valid', activation = 'relu'))\n",
        "model.add(BatchNormalization())\n",
        "model.add(Dropout(0.5))\n",
        "model.add(UpSampling2D(size=pool_size))\n",
        "model.add(Conv2DTranspose(32, (3, 3), padding='valid', activation = 'relu'))\n",
        "model.add(BatchNormalization())\n",
        "model.add(Dropout(0.5))\n",
        "model.add(Conv2DTranspose(32, (3, 3), padding='valid', activation = 'relu'))\n",
        "model.add(BatchNormalization())\n",
        "model.add(Dropout(0.5))\n",
        "model.add(UpSampling2D(size=pool_size))\n",
        "model.add(Conv2DTranspose(16, (3, 3), padding='valid', activation = 'relu'))\n",
        "model.add(BatchNormalization())\n",
        "model.add(Dropout(0.5))\n",
        "model.add(Conv2DTranspose(1, (3, 3), padding='valid', activation = 'relu'))\n",
        "# # model.add(tf.keras.layers.Flatten())\n",
        "# # model.add(Dense(1))"
      ],
      "metadata": {
        "id": "-xJ1oQ-1vEJD"
      },
      "execution_count": 9,
      "outputs": []
    },
    {
      "cell_type": "code",
      "source": [
        "model.summary()"
      ],
      "metadata": {
        "colab": {
          "base_uri": "https://localhost:8080/"
        },
        "id": "xErFezW1vGTO",
        "outputId": "8ad106c1-a3c7-422e-b7d8-f2e423ba9e71"
      },
      "execution_count": 10,
      "outputs": [
        {
          "output_type": "stream",
          "name": "stdout",
          "text": [
            "Model: \"sequential\"\n",
            "_________________________________________________________________\n",
            " Layer (type)                Output Shape              Param #   \n",
            "=================================================================\n",
            " batch_normalization (BatchN  (None, 80, 160, 3)       12        \n",
            " ormalization)                                                   \n",
            "                                                                 \n",
            " conv2d (Conv2D)             (None, 78, 158, 8)        224       \n",
            "                                                                 \n",
            " batch_normalization_1 (Batc  (None, 78, 158, 8)       32        \n",
            " hNormalization)                                                 \n",
            "                                                                 \n",
            " conv2d_1 (Conv2D)           (None, 76, 156, 16)       1168      \n",
            "                                                                 \n",
            " batch_normalization_2 (Batc  (None, 76, 156, 16)      64        \n",
            " hNormalization)                                                 \n",
            "                                                                 \n",
            " max_pooling2d (MaxPooling2D  (None, 38, 78, 16)       0         \n",
            " )                                                               \n",
            "                                                                 \n",
            " conv2d_2 (Conv2D)           (None, 36, 76, 32)        4640      \n",
            "                                                                 \n",
            " batch_normalization_3 (Batc  (None, 36, 76, 32)       128       \n",
            " hNormalization)                                                 \n",
            "                                                                 \n",
            " dropout (Dropout)           (None, 36, 76, 32)        0         \n",
            "                                                                 \n",
            " conv2d_3 (Conv2D)           (None, 34, 74, 32)        9248      \n",
            "                                                                 \n",
            " batch_normalization_4 (Batc  (None, 34, 74, 32)       128       \n",
            " hNormalization)                                                 \n",
            "                                                                 \n",
            " dropout_1 (Dropout)         (None, 34, 74, 32)        0         \n",
            "                                                                 \n",
            " max_pooling2d_1 (MaxPooling  (None, 17, 37, 32)       0         \n",
            " 2D)                                                             \n",
            "                                                                 \n",
            " conv2d_4 (Conv2D)           (None, 15, 35, 64)        18496     \n",
            "                                                                 \n",
            " batch_normalization_5 (Batc  (None, 15, 35, 64)       256       \n",
            " hNormalization)                                                 \n",
            "                                                                 \n",
            " dropout_2 (Dropout)         (None, 15, 35, 64)        0         \n",
            "                                                                 \n",
            " conv2d_transpose (Conv2DTra  (None, 17, 37, 64)       36928     \n",
            " nspose)                                                         \n",
            "                                                                 \n",
            " batch_normalization_6 (Batc  (None, 17, 37, 64)       256       \n",
            " hNormalization)                                                 \n",
            "                                                                 \n",
            " dropout_3 (Dropout)         (None, 17, 37, 64)        0         \n",
            "                                                                 \n",
            " up_sampling2d (UpSampling2D  (None, 34, 74, 64)       0         \n",
            " )                                                               \n",
            "                                                                 \n",
            " conv2d_transpose_1 (Conv2DT  (None, 36, 76, 32)       18464     \n",
            " ranspose)                                                       \n",
            "                                                                 \n",
            " batch_normalization_7 (Batc  (None, 36, 76, 32)       128       \n",
            " hNormalization)                                                 \n",
            "                                                                 \n",
            " dropout_4 (Dropout)         (None, 36, 76, 32)        0         \n",
            "                                                                 \n",
            " conv2d_transpose_2 (Conv2DT  (None, 38, 78, 32)       9248      \n",
            " ranspose)                                                       \n",
            "                                                                 \n",
            " batch_normalization_8 (Batc  (None, 38, 78, 32)       128       \n",
            " hNormalization)                                                 \n",
            "                                                                 \n",
            " dropout_5 (Dropout)         (None, 38, 78, 32)        0         \n",
            "                                                                 \n",
            " up_sampling2d_1 (UpSampling  (None, 76, 156, 32)      0         \n",
            " 2D)                                                             \n",
            "                                                                 \n",
            " conv2d_transpose_3 (Conv2DT  (None, 78, 158, 16)      4624      \n",
            " ranspose)                                                       \n",
            "                                                                 \n",
            " batch_normalization_9 (Batc  (None, 78, 158, 16)      64        \n",
            " hNormalization)                                                 \n",
            "                                                                 \n",
            " dropout_6 (Dropout)         (None, 78, 158, 16)       0         \n",
            "                                                                 \n",
            " conv2d_transpose_4 (Conv2DT  (None, 80, 160, 1)       145       \n",
            " ranspose)                                                       \n",
            "                                                                 \n",
            "=================================================================\n",
            "Total params: 104,381\n",
            "Trainable params: 103,783\n",
            "Non-trainable params: 598\n",
            "_________________________________________________________________\n"
          ]
        }
      ]
    },
    {
      "cell_type": "code",
      "source": [
        "# train\n",
        "\n",
        "model.compile(loss='mean_squared_error',\n",
        "             optimizer='adam',\n",
        "             metrics=['accuracy'])\n",
        "\n",
        "model_metric = model.fit(X_train,\n",
        "         y_train,\n",
        "         batch_size=128,\n",
        "         epochs=25,\n",
        "         validation_data=(X_val, y_val))"
      ],
      "metadata": {
        "colab": {
          "base_uri": "https://localhost:8080/"
        },
        "id": "lL4_oPd8vOAw",
        "outputId": "af5251be-0670-49d4-d0ab-26bc04feec67"
      },
      "execution_count": 11,
      "outputs": [
        {
          "output_type": "stream",
          "name": "stdout",
          "text": [
            "Epoch 1/25\n",
            "81/81 [==============================] - 34s 222ms/step - loss: 0.2899 - accuracy: 0.7571 - val_loss: 0.1169 - val_accuracy: 0.8284\n",
            "Epoch 2/25\n",
            "81/81 [==============================] - 14s 173ms/step - loss: 0.0746 - accuracy: 0.8848 - val_loss: 0.1158 - val_accuracy: 0.8341\n",
            "Epoch 3/25\n",
            "81/81 [==============================] - 14s 175ms/step - loss: 0.0467 - accuracy: 0.9197 - val_loss: 0.1171 - val_accuracy: 0.8512\n",
            "Epoch 4/25\n",
            "81/81 [==============================] - 14s 176ms/step - loss: 0.0338 - accuracy: 0.9369 - val_loss: 0.1127 - val_accuracy: 0.8597\n",
            "Epoch 5/25\n",
            "81/81 [==============================] - 14s 174ms/step - loss: 0.0274 - accuracy: 0.9444 - val_loss: 0.1021 - val_accuracy: 0.8707\n",
            "Epoch 6/25\n",
            "81/81 [==============================] - 14s 174ms/step - loss: 0.0236 - accuracy: 0.9480 - val_loss: 0.1027 - val_accuracy: 0.8710\n",
            "Epoch 7/25\n",
            "81/81 [==============================] - 14s 173ms/step - loss: 0.0213 - accuracy: 0.9499 - val_loss: 0.0940 - val_accuracy: 0.8782\n",
            "Epoch 8/25\n",
            "81/81 [==============================] - 14s 174ms/step - loss: 0.0198 - accuracy: 0.9511 - val_loss: 0.0873 - val_accuracy: 0.8835\n",
            "Epoch 9/25\n",
            "81/81 [==============================] - 14s 175ms/step - loss: 0.0185 - accuracy: 0.9521 - val_loss: 0.0841 - val_accuracy: 0.8866\n",
            "Epoch 10/25\n",
            "81/81 [==============================] - 14s 174ms/step - loss: 0.0179 - accuracy: 0.9525 - val_loss: 0.0795 - val_accuracy: 0.8905\n",
            "Epoch 11/25\n",
            "81/81 [==============================] - 14s 175ms/step - loss: 0.0170 - accuracy: 0.9532 - val_loss: 0.0687 - val_accuracy: 0.8998\n",
            "Epoch 12/25\n",
            "81/81 [==============================] - 14s 175ms/step - loss: 0.0163 - accuracy: 0.9536 - val_loss: 0.0714 - val_accuracy: 0.8970\n",
            "Epoch 13/25\n",
            "81/81 [==============================] - 14s 174ms/step - loss: 0.0161 - accuracy: 0.9537 - val_loss: 0.0685 - val_accuracy: 0.8989\n",
            "Epoch 14/25\n",
            "81/81 [==============================] - 14s 174ms/step - loss: 0.0155 - accuracy: 0.9540 - val_loss: 0.0774 - val_accuracy: 0.8905\n",
            "Epoch 15/25\n",
            "81/81 [==============================] - 14s 175ms/step - loss: 0.0151 - accuracy: 0.9543 - val_loss: 0.0542 - val_accuracy: 0.9117\n",
            "Epoch 16/25\n",
            "81/81 [==============================] - 14s 174ms/step - loss: 0.0147 - accuracy: 0.9545 - val_loss: 0.0594 - val_accuracy: 0.9066\n",
            "Epoch 17/25\n",
            "81/81 [==============================] - 14s 174ms/step - loss: 0.0144 - accuracy: 0.9546 - val_loss: 0.0625 - val_accuracy: 0.9039\n",
            "Epoch 18/25\n",
            "81/81 [==============================] - 14s 174ms/step - loss: 0.0141 - accuracy: 0.9548 - val_loss: 0.0738 - val_accuracy: 0.8933\n",
            "Epoch 19/25\n",
            "81/81 [==============================] - 14s 174ms/step - loss: 0.0145 - accuracy: 0.9544 - val_loss: 0.0629 - val_accuracy: 0.9034\n",
            "Epoch 20/25\n",
            "81/81 [==============================] - 14s 174ms/step - loss: 0.0138 - accuracy: 0.9551 - val_loss: 0.0721 - val_accuracy: 0.8951\n",
            "Epoch 21/25\n",
            "81/81 [==============================] - 14s 174ms/step - loss: 0.0134 - accuracy: 0.9553 - val_loss: 0.0619 - val_accuracy: 0.9041\n",
            "Epoch 22/25\n",
            "81/81 [==============================] - 14s 175ms/step - loss: 0.0131 - accuracy: 0.9554 - val_loss: 0.0688 - val_accuracy: 0.8978\n",
            "Epoch 23/25\n",
            "81/81 [==============================] - 14s 174ms/step - loss: 0.0129 - accuracy: 0.9556 - val_loss: 0.0610 - val_accuracy: 0.9049\n",
            "Epoch 24/25\n",
            "81/81 [==============================] - 14s 174ms/step - loss: 0.0125 - accuracy: 0.9558 - val_loss: 0.0610 - val_accuracy: 0.9049\n",
            "Epoch 25/25\n",
            "81/81 [==============================] - 14s 174ms/step - loss: 0.0125 - accuracy: 0.9558 - val_loss: 0.0601 - val_accuracy: 0.9058\n"
          ]
        }
      ]
    },
    {
      "cell_type": "code",
      "source": [
        "import pandas as pd\n",
        "df = pd.DataFrame(model_metric.history)"
      ],
      "metadata": {
        "id": "r0pYi5a0vQek"
      },
      "execution_count": 12,
      "outputs": []
    },
    {
      "cell_type": "code",
      "source": [
        "import matplotlib.pyplot as plt\n",
        "\n",
        "fig, ax = plt.subplots();\n",
        "ax.plot(df.index, df['loss'], label='training loss');\n",
        "ax.plot(df.index, df['val_loss'], label='validation loss');\n",
        "ax.set_xlabel('epoch');\n",
        "ax.set_ylabel('loss');\n",
        "plt.legend()"
      ],
      "metadata": {
        "id": "VE11qsmMErNr",
        "colab": {
          "base_uri": "https://localhost:8080/",
          "height": 299
        },
        "outputId": "7e5fce8f-cf13-48e4-eacb-9325f8941bfd"
      },
      "execution_count": 13,
      "outputs": [
        {
          "output_type": "execute_result",
          "data": {
            "text/plain": [
              "<matplotlib.legend.Legend at 0x7fd551ff1f50>"
            ]
          },
          "metadata": {},
          "execution_count": 13
        },
        {
          "output_type": "display_data",
          "data": {
            "text/plain": [
              "<Figure size 432x288 with 1 Axes>"
            ],
            "image/png": "[encoded data removed]"
          },
          "metadata": {
            "needs_background": "light"
          }
        }
      ]
    },
    {
      "cell_type": "code",
      "source": [
        "fig, ax = plt.subplots();\n",
        "ax.plot(df.index, df['accuracy'], label='training accuracy');\n",
        "ax.plot(df.index, df['val_accuracy'], label='validation accuracy');\n",
        "ax.set_xlabel('epoch');\n",
        "ax.set_ylabel('accuracy');\n",
        "plt.legend()\n"
      ],
      "metadata": {
        "id": "Ww1Sn9hrE2dl",
        "colab": {
          "base_uri": "https://localhost:8080/",
          "height": 297
        },
        "outputId": "845c0413-1e9e-42fe-b5b5-99392ca4af68"
      },
      "execution_count": 14,
      "outputs": [
        {
          "output_type": "execute_result",
          "data": {
            "text/plain": [
              "<matplotlib.legend.Legend at 0x7fd551f34910>"
            ]
          },
          "metadata": {},
          "execution_count": 14
        },
        {
          "output_type": "display_data",
          "data": {
            "text/plain": [
              "<Figure size 432x288 with 1 Axes>"
            ],
            "image/png": "[encoded data removed]"
          },
          "metadata": {
            "needs_background": "light"
          }
        }
      ]
    },
    {
      "cell_type": "code",
      "source": [
        "# evaluate on test set\n",
        "score_test = model.evaluate(X_test, y_test)\n",
        "print(\"Accuracy on the trained model\", score_test[1])\n",
        "print('Loss on the trained model', score_test[0])"
      ],
      "metadata": {
        "id": "Pg3xEm7vGCnU",
        "colab": {
          "base_uri": "https://localhost:8080/"
        },
        "outputId": "8a634cf5-2223-4e62-bd3c-1aaf23f9b219"
      },
      "execution_count": 15,
      "outputs": [
        {
          "output_type": "stream",
          "name": "stdout",
          "text": [
            "40/40 [==============================] - 1s 20ms/step - loss: 0.0597 - accuracy: 0.9063\n",
            "Accuracy on the trained model 0.9062879681587219\n",
            "Loss on the trained model 0.05972643196582794\n"
          ]
        }
      ]
    },
    {
      "cell_type": "code",
      "source": [
        "model.save('drive/MyDrive/bda_data/lane_model.h5')"
      ],
      "metadata": {
        "id": "a4qKAuZVFbxl"
      },
      "execution_count": 16,
      "outputs": []
    },
    {
      "cell_type": "code",
      "source": [
        "lane_fit_frame = []\n",
        "lane_fit_average = []\n",
        "\n",
        "def video_lane(img):\n",
        "  w = data[0].shape[0]\n",
        "  h = data[0].shape[1]\n",
        "  img1 = cv2.resize(img,(h,w))\n",
        "  img1 = np.array(img1)\n",
        "  img1 = img1[None,:,:,:]\n",
        "  cv2.imwrite(\"drive/MyDrive/bda_data/img1.jpg\",img1)\n",
        "  sample = model.predict(img1)[0]\n",
        "  cv2.imwrite(\"drive/MyDrive/bda_data/lane_sample.jpg\",sample)\n",
        "  out_image = sample * 255\n",
        "  lane_fit_frame.append(out_image)\n",
        "  lane_fit_average = np.mean(np.array([i for i in lane_fit_frame]),axis = 0)\n",
        "  pad = np.zeros_like(lane_fit_average).astype(np.uint8)\n",
        "  lane_lines = np.dstack((pad,lane_fit_average,pad))\n",
        "  w1 = img.shape[0]\n",
        "  h1 = img.shape[1]\n",
        "  lane_image = cv2.resize(lane_lines, (h1,w1))\n",
        "  cv2.imwrite(\"drive/MyDrive/bda_data/lane.jpg\",lane_image)\n",
        "  cv2.imwrite(\"drive/MyDrive/bda_data/img.jpg\",img)\n",
        "  result = cv2.addWeighted(img,1,lane_image,1,0, dtype = cv2.CV_32F)\n",
        "  return result\n"
      ],
      "metadata": {
        "id": "aKJvrSogFrQ8"
      },
      "execution_count": 17,
      "outputs": []
    },
    {
      "cell_type": "code",
      "source": [
        "from moviepy.editor import VideoFileClip\n",
        "from tensorflow.keras.models import load_model\n",
        "import cv2\n",
        "\n",
        "lane_model = load_model('drive/MyDrive/bda_data/lane_model.h5')\n",
        "clip = VideoFileClip('drive/MyDrive/bda_data/input_video.mp4')\n",
        "out_v = clip.fl_image(video_lane)\n",
        "out_v.write_videofile('drive/MyDrive/bda_data/output_video.mp4', audio=False)"
      ],
      "metadata": {
        "id": "mB2m5BVgICVB",
        "colab": {
          "base_uri": "https://localhost:8080/"
        },
        "outputId": "2bbaa0e5-6caf-4bd2-b5d3-7d980d1d96bb"
      },
      "execution_count": 18,
      "outputs": [
        {
          "output_type": "stream",
          "name": "stdout",
          "text": [
            "[MoviePy] >>>> Building video drive/MyDrive/bda_data/output_video.mp4\n",
            "[MoviePy] Writing video drive/MyDrive/bda_data/output_video.mp4\n"
          ]
        },
        {
          "output_type": "stream",
          "name": "stderr",
          "text": [
            "100%|██████████| 251/251 [00:42<00:00,  5.97it/s]\n"
          ]
        },
        {
          "output_type": "stream",
          "name": "stdout",
          "text": [
            "[MoviePy] Done.\n",
            "[MoviePy] >>>> Video ready: drive/MyDrive/bda_data/output_video.mp4 \n",
            "\n"
          ]
        }
      ]
    },
    {
      "cell_type": "code",
      "source": [
        ""
      ],
      "metadata": {
        "id": "ERo-cAP6S4DV"
      },
      "execution_count": 18,
      "outputs": []
    }
  ]
}